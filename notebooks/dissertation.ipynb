{
 "cells": [
  {
   "metadata": {},
   "cell_type": "markdown",
   "source": [
    "# Financial Market Prediction using Sentiment Analysis and Machine Learning\n",
    "\n",
    "This project implements a research framework for predicting a financial market direction using sentiment analysis from\n",
    "social media alongside traditional financial models.\n",
    "\n",
    "\n",
    "## Research Hypotheses\n",
    "\n",
    "1. **H1**: Financial news headlines and social media sentiment can be used to accurately predict a financial market direction in the short term.\n",
    "2. **H2**: Machine learning models that incorporate sentiment data will outperform traditional econometric models in predicting market trends.\n",
    "3. **H3**: During periods of financial crises, social media sentiment will be a more reliable predictor of market volatility compared to conventional sentiment indicators.\n"
   ],
   "id": "c0274ca64d340660"
  },
  {
   "cell_type": "code",
   "execution_count": null,
   "id": "initial_id",
   "metadata": {
    "collapsed": true
   },
   "outputs": [],
   "source": [
    "from src.data_collection.market_data import get_stock_data, get_factor_data, calculate_fama_french_factors\n",
    "from src.data_collection.twitter_data import TwitterDataCollector\n",
    "from src.data_collection.data_cleaning import clean_tweet_csv, clean_stockerbot_export, clean_tweets_remaining, \\\n",
    "    load_and_clean_all_datasets, combine_datasets"
   ]
  },
  {
   "metadata": {},
   "cell_type": "markdown",
   "source": [
    "## 1. Data Collection\n",
    "\n",
    "### 1.1 Market Data Collection"
   ],
   "id": "fafdacdb7e1dec0"
  },
  {
   "metadata": {},
   "cell_type": "code",
   "outputs": [],
   "execution_count": null,
   "source": [
    "# Set date range (2020-2022)\n",
    "start_date = \"2020-01-01\"\n",
    "end_date = \"2022-12-31\"\n",
    "\n",
    "# Get market index data (S&P 500)\n",
    "sp500_data = get_stock_data(\"^GSPC\", start_date, end_date)\n",
    "\n",
    "# Get factor data from Kenneth French's data library\n",
    "french_data = get_factor_data(start_date, end_date)\n",
    "\n",
    "# Calculate Fama-French factors using French data\n",
    "ff_factors = calculate_fama_french_factors(\n",
    "    market_data=sp500_data,\n",
    "    factor_data=french_data\n",
    ")"
   ],
   "id": "78c06e85593263d4"
  },
  {
   "metadata": {},
   "cell_type": "markdown",
   "source": [
    "### 1.2 Twitter Data Collection\n",
    "Data has not been collected from tweepy/twitter API for this, because of the limits and costs put in place.\n",
    "But this will show how it could be collected"
   ],
   "id": "5c203189cb4311c2"
  },
  {
   "metadata": {},
   "cell_type": "code",
   "outputs": [],
   "execution_count": null,
   "source": [
    "api_key = \"XXXXXXXXXXXXXXXXXXX\"\n",
    "api_secret = \"XXXXXXXXXX\"\n",
    "access_token = \"XXXXXXXXXXXXXX\"\n",
    "access_token_secret = \"XXXXXXXXXXXXXX\"\n",
    "\n",
    "# Initialize collector\n",
    "collector = TwitterDataCollector(api_key, api_secret, access_token, access_token_secret)\n",
    "\n",
    "# Not a ticker, but what people might tweet, should probably use both.\n",
    "tickers = [\"S&P500\"]\n",
    "additional_keywords = [\"earnings\", \"stock\", \"price\", \"market\", \"trading\", \"investor\"]\n",
    "\n",
    "# Using specific date range\n",
    "print(\"\\nCollecting tweets from a specific date range (2020-01-01 to 2022-12-31)\")\n",
    "tweets_df = collector.collect_financial_tweets(\n",
    "    tickers=tickers,\n",
    "    additional_keywords=additional_keywords,\n",
    "    start_date=\"2020-01-01\",\n",
    "    end_date=\"2022-12-31\",\n",
    "    tweets_per_query=100\n",
    ")"
   ],
   "id": "b6627da31d1b7ce7"
  },
  {
   "metadata": {},
   "cell_type": "markdown",
   "source": "Instead we will use pre-existing datasets that can be cleaned, they are not in this repo due to size.",
   "id": "2b6f765d082fa818"
  },
  {
   "metadata": {},
   "cell_type": "code",
   "outputs": [],
   "execution_count": null,
   "source": [
    "tweet_csv_path = \"../external_data/Tweet.csv\"\n",
    "stockerbot_path = \"../external_data/stockerbot-export.csv\"\n",
    "tweets_remaining_path = \"../external_data/tweets_remaining_09042020_16072020.csv\"\n",
    "\n",
    "# Clean individual datasets\n",
    "tweet_csv_df = clean_tweet_csv(tweet_csv_path)\n",
    "stockerbot_df = clean_stockerbot_export(stockerbot_path)\n",
    "tweets_remaining_df = clean_tweets_remaining(tweets_remaining_path)\n",
    "\n",
    "print(f\"Tweet CSV: {len(tweet_csv_df)} rows\")\n",
    "print(f\"Stockerbot: {len(stockerbot_df)} rows\")\n",
    "print(f\"Tweets Remaining: {len(tweets_remaining_df)} rows\")\n",
    "\n",
    "# Alternatively, use the combined function\n",
    "datasets = load_and_clean_all_datasets(\n",
    "    tweets_remaining_path=tweets_remaining_path,\n",
    "    tweet_csv_path=tweet_csv_path,\n",
    "    stockerbot_path=stockerbot_path\n",
    ")\n",
    "\n",
    "# Combine all datasets\n",
    "combined_df = combine_datasets(datasets)\n",
    "print(f\"Combined dataset: {len(combined_df)} rows\")"
   ],
   "id": "ab068b5a6ab18184"
  }
 ],
 "metadata": {
  "kernelspec": {
   "display_name": "Python 3",
   "language": "python",
   "name": "python3"
  },
  "language_info": {
   "codemirror_mode": {
    "name": "ipython",
    "version": 2
   },
   "file_extension": ".py",
   "mimetype": "text/x-python",
   "name": "python",
   "nbconvert_exporter": "python",
   "pygments_lexer": "ipython2",
   "version": "2.7.6"
  }
 },
 "nbformat": 4,
 "nbformat_minor": 5
}
